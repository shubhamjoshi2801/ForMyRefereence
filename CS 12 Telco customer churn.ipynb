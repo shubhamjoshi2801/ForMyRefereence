{
 "cells": [
  {
   "cell_type": "code",
   "execution_count": null,
   "metadata": {},
   "outputs": [],
   "source": []
  },
  {
   "cell_type": "code",
   "execution_count": null,
   "metadata": {},
   "outputs": [],
   "source": []
  },
  {
   "cell_type": "code",
   "execution_count": null,
   "metadata": {},
   "outputs": [],
   "source": []
  },
  {
   "cell_type": "code",
   "execution_count": 1,
   "metadata": {},
   "outputs": [],
   "source": [
    "import pandas as pd\n",
    "import numpy as np"
   ]
  },
  {
   "cell_type": "code",
   "execution_count": 2,
   "metadata": {},
   "outputs": [],
   "source": [
    "churn_data=pd.read_csv('telco.csv')"
   ]
  },
  {
   "cell_type": "code",
   "execution_count": 3,
   "metadata": {},
   "outputs": [
    {
     "name": "stdout",
     "output_type": "stream",
     "text": [
      "<class 'pandas.core.frame.DataFrame'>\n",
      "RangeIndex: 7043 entries, 0 to 7042\n",
      "Data columns (total 21 columns):\n",
      "customerID          7043 non-null object\n",
      "gender              7043 non-null object\n",
      "SeniorCitizen       7043 non-null int64\n",
      "Partner             7043 non-null object\n",
      "Dependents          7043 non-null object\n",
      "tenure              7043 non-null int64\n",
      "PhoneService        7043 non-null object\n",
      "MultipleLines       7043 non-null object\n",
      "InternetService     7043 non-null object\n",
      "OnlineSecurity      7043 non-null object\n",
      "OnlineBackup        7043 non-null object\n",
      "DeviceProtection    7043 non-null object\n",
      "TechSupport         7043 non-null object\n",
      "StreamingTV         7043 non-null object\n",
      "StreamingMovies     7043 non-null object\n",
      "Contract            7043 non-null object\n",
      "PaperlessBilling    7043 non-null object\n",
      "PaymentMethod       7043 non-null object\n",
      "MonthlyCharges      7043 non-null float64\n",
      "TotalCharges        7043 non-null object\n",
      "Churn               7043 non-null object\n",
      "dtypes: float64(1), int64(2), object(18)\n",
      "memory usage: 1.1+ MB\n"
     ]
    }
   ],
   "source": [
    "churn_data.info()"
   ]
  },
  {
   "cell_type": "code",
   "execution_count": 4,
   "metadata": {},
   "outputs": [],
   "source": [
    "churn_data=churn_data.loc[:,'gender':'Churn']"
   ]
  },
  {
   "cell_type": "code",
   "execution_count": 5,
   "metadata": {},
   "outputs": [
    {
     "data": {
      "text/html": [
       "<div>\n",
       "<style scoped>\n",
       "    .dataframe tbody tr th:only-of-type {\n",
       "        vertical-align: middle;\n",
       "    }\n",
       "\n",
       "    .dataframe tbody tr th {\n",
       "        vertical-align: top;\n",
       "    }\n",
       "\n",
       "    .dataframe thead th {\n",
       "        text-align: right;\n",
       "    }\n",
       "</style>\n",
       "<table border=\"1\" class=\"dataframe\">\n",
       "  <thead>\n",
       "    <tr style=\"text-align: right;\">\n",
       "      <th></th>\n",
       "      <th>gender</th>\n",
       "      <th>SeniorCitizen</th>\n",
       "      <th>Partner</th>\n",
       "      <th>Dependents</th>\n",
       "      <th>tenure</th>\n",
       "      <th>PhoneService</th>\n",
       "      <th>MultipleLines</th>\n",
       "      <th>InternetService</th>\n",
       "      <th>OnlineSecurity</th>\n",
       "      <th>OnlineBackup</th>\n",
       "      <th>DeviceProtection</th>\n",
       "      <th>TechSupport</th>\n",
       "      <th>StreamingTV</th>\n",
       "      <th>StreamingMovies</th>\n",
       "      <th>Contract</th>\n",
       "      <th>PaperlessBilling</th>\n",
       "      <th>PaymentMethod</th>\n",
       "      <th>MonthlyCharges</th>\n",
       "      <th>TotalCharges</th>\n",
       "      <th>Churn</th>\n",
       "    </tr>\n",
       "  </thead>\n",
       "  <tbody>\n",
       "    <tr>\n",
       "      <th>0</th>\n",
       "      <td>Female</td>\n",
       "      <td>0</td>\n",
       "      <td>Yes</td>\n",
       "      <td>No</td>\n",
       "      <td>1</td>\n",
       "      <td>No</td>\n",
       "      <td>No phone service</td>\n",
       "      <td>DSL</td>\n",
       "      <td>No</td>\n",
       "      <td>Yes</td>\n",
       "      <td>No</td>\n",
       "      <td>No</td>\n",
       "      <td>No</td>\n",
       "      <td>No</td>\n",
       "      <td>Month-to-month</td>\n",
       "      <td>Yes</td>\n",
       "      <td>Electronic check</td>\n",
       "      <td>29.85</td>\n",
       "      <td>29.85</td>\n",
       "      <td>No</td>\n",
       "    </tr>\n",
       "    <tr>\n",
       "      <th>1</th>\n",
       "      <td>Male</td>\n",
       "      <td>0</td>\n",
       "      <td>No</td>\n",
       "      <td>No</td>\n",
       "      <td>34</td>\n",
       "      <td>Yes</td>\n",
       "      <td>No</td>\n",
       "      <td>DSL</td>\n",
       "      <td>Yes</td>\n",
       "      <td>No</td>\n",
       "      <td>Yes</td>\n",
       "      <td>No</td>\n",
       "      <td>No</td>\n",
       "      <td>No</td>\n",
       "      <td>One year</td>\n",
       "      <td>No</td>\n",
       "      <td>Mailed check</td>\n",
       "      <td>56.95</td>\n",
       "      <td>1889.5</td>\n",
       "      <td>No</td>\n",
       "    </tr>\n",
       "    <tr>\n",
       "      <th>2</th>\n",
       "      <td>Male</td>\n",
       "      <td>0</td>\n",
       "      <td>No</td>\n",
       "      <td>No</td>\n",
       "      <td>2</td>\n",
       "      <td>Yes</td>\n",
       "      <td>No</td>\n",
       "      <td>DSL</td>\n",
       "      <td>Yes</td>\n",
       "      <td>Yes</td>\n",
       "      <td>No</td>\n",
       "      <td>No</td>\n",
       "      <td>No</td>\n",
       "      <td>No</td>\n",
       "      <td>Month-to-month</td>\n",
       "      <td>Yes</td>\n",
       "      <td>Mailed check</td>\n",
       "      <td>53.85</td>\n",
       "      <td>108.15</td>\n",
       "      <td>Yes</td>\n",
       "    </tr>\n",
       "    <tr>\n",
       "      <th>3</th>\n",
       "      <td>Male</td>\n",
       "      <td>0</td>\n",
       "      <td>No</td>\n",
       "      <td>No</td>\n",
       "      <td>45</td>\n",
       "      <td>No</td>\n",
       "      <td>No phone service</td>\n",
       "      <td>DSL</td>\n",
       "      <td>Yes</td>\n",
       "      <td>No</td>\n",
       "      <td>Yes</td>\n",
       "      <td>Yes</td>\n",
       "      <td>No</td>\n",
       "      <td>No</td>\n",
       "      <td>One year</td>\n",
       "      <td>No</td>\n",
       "      <td>Bank transfer (automatic)</td>\n",
       "      <td>42.30</td>\n",
       "      <td>1840.75</td>\n",
       "      <td>No</td>\n",
       "    </tr>\n",
       "    <tr>\n",
       "      <th>4</th>\n",
       "      <td>Female</td>\n",
       "      <td>0</td>\n",
       "      <td>No</td>\n",
       "      <td>No</td>\n",
       "      <td>2</td>\n",
       "      <td>Yes</td>\n",
       "      <td>No</td>\n",
       "      <td>Fiber optic</td>\n",
       "      <td>No</td>\n",
       "      <td>No</td>\n",
       "      <td>No</td>\n",
       "      <td>No</td>\n",
       "      <td>No</td>\n",
       "      <td>No</td>\n",
       "      <td>Month-to-month</td>\n",
       "      <td>Yes</td>\n",
       "      <td>Electronic check</td>\n",
       "      <td>70.70</td>\n",
       "      <td>151.65</td>\n",
       "      <td>Yes</td>\n",
       "    </tr>\n",
       "  </tbody>\n",
       "</table>\n",
       "</div>"
      ],
      "text/plain": [
       "   gender  SeniorCitizen Partner Dependents  tenure PhoneService  \\\n",
       "0  Female              0     Yes         No       1           No   \n",
       "1    Male              0      No         No      34          Yes   \n",
       "2    Male              0      No         No       2          Yes   \n",
       "3    Male              0      No         No      45           No   \n",
       "4  Female              0      No         No       2          Yes   \n",
       "\n",
       "      MultipleLines InternetService OnlineSecurity OnlineBackup  \\\n",
       "0  No phone service             DSL             No          Yes   \n",
       "1                No             DSL            Yes           No   \n",
       "2                No             DSL            Yes          Yes   \n",
       "3  No phone service             DSL            Yes           No   \n",
       "4                No     Fiber optic             No           No   \n",
       "\n",
       "  DeviceProtection TechSupport StreamingTV StreamingMovies        Contract  \\\n",
       "0               No          No          No              No  Month-to-month   \n",
       "1              Yes          No          No              No        One year   \n",
       "2               No          No          No              No  Month-to-month   \n",
       "3              Yes         Yes          No              No        One year   \n",
       "4               No          No          No              No  Month-to-month   \n",
       "\n",
       "  PaperlessBilling              PaymentMethod  MonthlyCharges TotalCharges  \\\n",
       "0              Yes           Electronic check           29.85        29.85   \n",
       "1               No               Mailed check           56.95       1889.5   \n",
       "2              Yes               Mailed check           53.85       108.15   \n",
       "3               No  Bank transfer (automatic)           42.30      1840.75   \n",
       "4              Yes           Electronic check           70.70       151.65   \n",
       "\n",
       "  Churn  \n",
       "0    No  \n",
       "1    No  \n",
       "2   Yes  \n",
       "3    No  \n",
       "4   Yes  "
      ]
     },
     "execution_count": 5,
     "metadata": {},
     "output_type": "execute_result"
    }
   ],
   "source": [
    "churn_data.head()"
   ]
  },
  {
   "cell_type": "code",
   "execution_count": 6,
   "metadata": {},
   "outputs": [],
   "source": [
    "churn_data['TotalCharges']=churn_data['tenure']*churn_data['MonthlyCharges']"
   ]
  },
  {
   "cell_type": "code",
   "execution_count": 7,
   "metadata": {},
   "outputs": [],
   "source": [
    "churn_data['TotalCharges']=churn_data['TotalCharges'].infer_objects()"
   ]
  },
  {
   "cell_type": "code",
   "execution_count": 8,
   "metadata": {},
   "outputs": [
    {
     "data": {
      "text/plain": [
       "No     5174\n",
       "Yes    1869\n",
       "Name: Churn, dtype: int64"
      ]
     },
     "execution_count": 8,
     "metadata": {},
     "output_type": "execute_result"
    }
   ],
   "source": [
    "churn_data['Churn'].value_counts()"
   ]
  },
  {
   "cell_type": "markdown",
   "metadata": {},
   "source": [
    "#### Label Encoding"
   ]
  },
  {
   "cell_type": "code",
   "execution_count": 9,
   "metadata": {},
   "outputs": [],
   "source": [
    "#creating a dataframe containing categorical attributes only\n",
    "categorical_df=churn_data.loc[:,'gender':'TotalCharges'].select_dtypes(object)\n",
    "#fetching the attributes:\n",
    "categorical_attributes=categorical_df.columns.tolist()\n",
    "#fetching the index of each categorical attribute:\n",
    "categorical_indices=[]\n",
    "for attribute in categorical_attributes:\n",
    "    categorical_indices.append(churn_data.columns.get_loc(attribute))\n",
    "#label encoding the indices:\n",
    "from sklearn.preprocessing import LabelEncoder\n",
    "encoder_object=LabelEncoder()\n",
    "for attribute in categorical_attributes:\n",
    "    churn_data.loc[:,attribute]=encoder_object.fit_transform(churn_data.loc[:,attribute])"
   ]
  },
  {
   "cell_type": "code",
   "execution_count": 10,
   "metadata": {},
   "outputs": [
    {
     "data": {
      "text/plain": [
       "[0, 2, 3, 5, 6, 7, 8, 9, 10, 11, 12, 13, 14, 15, 16]"
      ]
     },
     "execution_count": 10,
     "metadata": {},
     "output_type": "execute_result"
    }
   ],
   "source": [
    "categorical_indices"
   ]
  },
  {
   "cell_type": "code",
   "execution_count": 11,
   "metadata": {},
   "outputs": [],
   "source": [
    "churn_data.loc[:,'Churn']=encoder_object.fit_transform(churn_data.loc[:,'Churn'])"
   ]
  },
  {
   "cell_type": "markdown",
   "metadata": {},
   "source": [
    "#### One Hot Encoding:"
   ]
  },
  {
   "cell_type": "code",
   "execution_count": 12,
   "metadata": {},
   "outputs": [
    {
     "data": {
      "text/html": [
       "<div>\n",
       "<style scoped>\n",
       "    .dataframe tbody tr th:only-of-type {\n",
       "        vertical-align: middle;\n",
       "    }\n",
       "\n",
       "    .dataframe tbody tr th {\n",
       "        vertical-align: top;\n",
       "    }\n",
       "\n",
       "    .dataframe thead th {\n",
       "        text-align: right;\n",
       "    }\n",
       "</style>\n",
       "<table border=\"1\" class=\"dataframe\">\n",
       "  <thead>\n",
       "    <tr style=\"text-align: right;\">\n",
       "      <th></th>\n",
       "      <th>attributes</th>\n",
       "      <th>index</th>\n",
       "      <th>splits</th>\n",
       "    </tr>\n",
       "  </thead>\n",
       "  <tbody>\n",
       "    <tr>\n",
       "      <th>0</th>\n",
       "      <td>gender</td>\n",
       "      <td>0</td>\n",
       "      <td>2</td>\n",
       "    </tr>\n",
       "    <tr>\n",
       "      <th>1</th>\n",
       "      <td>Partner</td>\n",
       "      <td>2</td>\n",
       "      <td>2</td>\n",
       "    </tr>\n",
       "    <tr>\n",
       "      <th>2</th>\n",
       "      <td>Dependents</td>\n",
       "      <td>3</td>\n",
       "      <td>2</td>\n",
       "    </tr>\n",
       "    <tr>\n",
       "      <th>3</th>\n",
       "      <td>PhoneService</td>\n",
       "      <td>5</td>\n",
       "      <td>2</td>\n",
       "    </tr>\n",
       "    <tr>\n",
       "      <th>4</th>\n",
       "      <td>MultipleLines</td>\n",
       "      <td>6</td>\n",
       "      <td>3</td>\n",
       "    </tr>\n",
       "    <tr>\n",
       "      <th>5</th>\n",
       "      <td>InternetService</td>\n",
       "      <td>7</td>\n",
       "      <td>3</td>\n",
       "    </tr>\n",
       "    <tr>\n",
       "      <th>6</th>\n",
       "      <td>OnlineSecurity</td>\n",
       "      <td>8</td>\n",
       "      <td>3</td>\n",
       "    </tr>\n",
       "    <tr>\n",
       "      <th>7</th>\n",
       "      <td>OnlineBackup</td>\n",
       "      <td>9</td>\n",
       "      <td>3</td>\n",
       "    </tr>\n",
       "    <tr>\n",
       "      <th>8</th>\n",
       "      <td>DeviceProtection</td>\n",
       "      <td>10</td>\n",
       "      <td>3</td>\n",
       "    </tr>\n",
       "    <tr>\n",
       "      <th>9</th>\n",
       "      <td>TechSupport</td>\n",
       "      <td>11</td>\n",
       "      <td>3</td>\n",
       "    </tr>\n",
       "    <tr>\n",
       "      <th>10</th>\n",
       "      <td>StreamingTV</td>\n",
       "      <td>12</td>\n",
       "      <td>3</td>\n",
       "    </tr>\n",
       "    <tr>\n",
       "      <th>11</th>\n",
       "      <td>StreamingMovies</td>\n",
       "      <td>13</td>\n",
       "      <td>3</td>\n",
       "    </tr>\n",
       "    <tr>\n",
       "      <th>12</th>\n",
       "      <td>Contract</td>\n",
       "      <td>14</td>\n",
       "      <td>3</td>\n",
       "    </tr>\n",
       "    <tr>\n",
       "      <th>13</th>\n",
       "      <td>PaperlessBilling</td>\n",
       "      <td>15</td>\n",
       "      <td>2</td>\n",
       "    </tr>\n",
       "    <tr>\n",
       "      <th>14</th>\n",
       "      <td>PaymentMethod</td>\n",
       "      <td>16</td>\n",
       "      <td>4</td>\n",
       "    </tr>\n",
       "  </tbody>\n",
       "</table>\n",
       "</div>"
      ],
      "text/plain": [
       "          attributes  index  splits\n",
       "0             gender      0       2\n",
       "1            Partner      2       2\n",
       "2         Dependents      3       2\n",
       "3       PhoneService      5       2\n",
       "4      MultipleLines      6       3\n",
       "5    InternetService      7       3\n",
       "6     OnlineSecurity      8       3\n",
       "7       OnlineBackup      9       3\n",
       "8   DeviceProtection     10       3\n",
       "9        TechSupport     11       3\n",
       "10       StreamingTV     12       3\n",
       "11   StreamingMovies     13       3\n",
       "12          Contract     14       3\n",
       "13  PaperlessBilling     15       2\n",
       "14     PaymentMethod     16       4"
      ]
     },
     "execution_count": 12,
     "metadata": {},
     "output_type": "execute_result"
    }
   ],
   "source": [
    "from sklearn.preprocessing import OneHotEncoder\n",
    "encoder_object2=OneHotEncoder(categorical_features=categorical_indices)\n",
    "churn_data=encoder_object2.fit_transform(churn_data).toarray()\n",
    "churn_data=pd.DataFrame(data=churn_data)\n",
    "splits_df=pd.DataFrame(data={'index':categorical_indices,'attributes':categorical_attributes,'splits':encoder_object2.n_values_})\n",
    "splits_df"
   ]
  },
  {
   "cell_type": "markdown",
   "metadata": {},
   "source": [
    "#### Creating the training set and the testing set:"
   ]
  },
  {
   "cell_type": "code",
   "execution_count": 13,
   "metadata": {},
   "outputs": [
    {
     "data": {
      "text/plain": [
       "0.0    5174\n",
       "1.0    1869\n",
       "Name: 45, dtype: int64"
      ]
     },
     "execution_count": 13,
     "metadata": {},
     "output_type": "execute_result"
    }
   ],
   "source": [
    "churn_data[45].value_counts()"
   ]
  },
  {
   "cell_type": "code",
   "execution_count": 14,
   "metadata": {},
   "outputs": [],
   "source": [
    "negative_df=churn_data[churn_data[45]==0].sample(n=1000,replace=False)\n",
    "positive_df=churn_data[churn_data[45]==1].sample(n=1000,replace=False)\n",
    "training_data=pd.concat([negative_df,positive_df])\n",
    "training_data=training_data.reindex(np.random.permutation(training_data.index))\n",
    "X_train=training_data.iloc[:,0:45].values\n",
    "Y_train=training_data.iloc[:,45].values"
   ]
  },
  {
   "cell_type": "code",
   "execution_count": 15,
   "metadata": {},
   "outputs": [],
   "source": [
    "churn_data=churn_data.drop(training_data.index)\n",
    "X_test=churn_data.iloc[:,0:45].values\n",
    "Y_test=churn_data.iloc[:,45].values"
   ]
  },
  {
   "cell_type": "markdown",
   "metadata": {},
   "source": [
    "#### Standardizing the data :"
   ]
  },
  {
   "cell_type": "code",
   "execution_count": 16,
   "metadata": {},
   "outputs": [],
   "source": [
    "from sklearn.preprocessing import StandardScaler\n",
    "standardizer=StandardScaler()\n",
    "X_train=standardizer.fit_transform(X_train)\n",
    "X_test=standardizer.transform(X_test)"
   ]
  },
  {
   "cell_type": "markdown",
   "metadata": {},
   "source": [
    "#### Applying PCA:"
   ]
  },
  {
   "cell_type": "code",
   "execution_count": 17,
   "metadata": {},
   "outputs": [
    {
     "name": "stdout",
     "output_type": "stream",
     "text": [
      "num_components: 18\n"
     ]
    }
   ],
   "source": [
    "from sklearn.decomposition import PCA\n",
    "pca_obj=PCA(0.95)\n",
    "X_train=pca_obj.fit_transform(X_train)\n",
    "X_test=pca_obj.transform(X_test)\n",
    "print('num_components:',pca_obj.n_components_)"
   ]
  },
  {
   "cell_type": "code",
   "execution_count": 18,
   "metadata": {},
   "outputs": [
    {
     "name": "stdout",
     "output_type": "stream",
     "text": [
      "0.7326987904025382\n"
     ]
    },
    {
     "data": {
      "text/plain": [
       "array([[3109, 1065],\n",
       "       [ 283,  586]], dtype=int64)"
      ]
     },
     "execution_count": 18,
     "metadata": {},
     "output_type": "execute_result"
    }
   ],
   "source": [
    "from sklearn.metrics import accuracy_score,confusion_matrix\n",
    "from sklearn.ensemble import RandomForestClassifier as RFC\n",
    "svm_clf=RFC()\n",
    "svm_clf.fit(X_train,Y_train)\n",
    "Y_pred=svm_clf.predict(X_test)\n",
    "print(accuracy_score(Y_test,Y_pred))\n",
    "confusion_matrix(Y_test,Y_pred)"
   ]
  },
  {
   "cell_type": "code",
   "execution_count": 19,
   "metadata": {},
   "outputs": [],
   "source": [
    "def neural_network (node_count,layer_count,optimizer):\n",
    "    import keras\n",
    "    from keras.models import Sequential\n",
    "    from keras.layers import Dense\n",
    "    classifier=Sequential()\n",
    "    input_layer=Dense(input_dim=18,units=node_count,kernel_initializer='uniform',activation='relu')\n",
    "    classifier.add(input_layer)\n",
    "    for count in range(layer_count):\n",
    "        hidden_layer=Dense(units=node_count,kernel_initializer='uniform',activation='relu')\n",
    "        classifier.add(hidden_layer)\n",
    "    output_layer=Dense(units=1,kernel_initializer='uniform',activation='sigmoid')\n",
    "    classifier.add(output_layer)\n",
    "    classifier.compile(optimizer=optimizer,loss='binary_crossentropy',metrics=['accuracy'])\n",
    "    return classifier"
   ]
  },
  {
   "cell_type": "code",
   "execution_count": null,
   "metadata": {},
   "outputs": [
    {
     "name": "stderr",
     "output_type": "stream",
     "text": [
      "C:\\User1\\lib\\site-packages\\h5py\\__init__.py:36: FutureWarning: Conversion of the second argument of issubdtype from `float` to `np.floating` is deprecated. In future, it will be treated as `np.float64 == np.dtype(float).type`.\n",
      "  from ._conv import register_converters as _register_converters\n",
      "Using TensorFlow backend.\n"
     ]
    },
    {
     "name": "stdout",
     "output_type": "stream",
     "text": [
      "Epoch 1/1\n",
      "1600/1600 [==============================] - 0s 166us/step - loss: 0.6932 - acc: 0.4975\n",
      "Epoch 1/1\n",
      "1600/1600 [==============================] - 0s 169us/step - loss: 0.6932 - acc: 0.4888\n",
      "Epoch 1/1\n",
      "1600/1600 [==============================] - 0s 213us/step - loss: 0.6932 - acc: 0.4906\n",
      "Epoch 1/1\n",
      "1600/1600 [==============================] - 0s 197us/step - loss: 0.6932 - acc: 0.4937\n",
      "Epoch 1/1\n",
      "1600/1600 [==============================] - 0s 207us/step - loss: 0.6932 - acc: 0.4900\n",
      "Epoch 1/1\n",
      "1600/1600 [==============================] - 0s 195us/step - loss: 0.6932 - acc: 0.4931\n",
      "Epoch 1/1\n",
      "1600/1600 [==============================] - 0s 220us/step - loss: 0.6932 - acc: 0.4963\n",
      "Epoch 1/1\n",
      "1600/1600 [==============================] - 0s 223us/step - loss: 0.6931 - acc: 0.5106\n",
      "Epoch 1/1\n",
      "1600/1600 [==============================] - 0s 261us/step - loss: 0.6932 - acc: 0.4988\n",
      "Epoch 1/1\n",
      "1600/1600 [==============================] - 0s 246us/step - loss: 0.6931 - acc: 0.5038\n",
      "Epoch 1/1\n",
      "1600/1600 [==============================] - 0s 274us/step - loss: 0.6931 - acc: 0.4981\n",
      "Epoch 1/1\n",
      "1600/1600 [==============================] - 1s 316us/step - loss: 0.6931 - acc: 0.5031\n",
      "Epoch 1/1\n",
      "1600/1600 [==============================] - 0s 311us/step - loss: 0.6931 - acc: 0.5012\n",
      "Epoch 1/1\n",
      "1600/1600 [==============================] - 1s 326us/step - loss: 0.6932 - acc: 0.4937\n",
      "Epoch 1/1\n",
      "1600/1600 [==============================] - 1s 373us/step - loss: 0.6931 - acc: 0.5031\n",
      "Epoch 1/1\n",
      "1600/1600 [==============================] - 1s 318us/step - loss: 0.6932 - acc: 0.5000\n",
      "Epoch 1/1\n",
      "1600/1600 [==============================] - 1s 332us/step - loss: 0.6929 - acc: 0.5019\n",
      "Epoch 1/1\n",
      "1600/1600 [==============================] - 1s 366us/step - loss: 0.6931 - acc: 0.4994\n",
      "Epoch 1/1\n",
      "1600/1600 [==============================] - 1s 395us/step - loss: 0.6931 - acc: 0.4919\n",
      "Epoch 1/1\n",
      "1600/1600 [==============================] - 1s 381us/step - loss: 0.6928 - acc: 0.5475\n",
      "Epoch 1/1\n",
      "1600/1600 [==============================] - 1s 413us/step - loss: 0.6928 - acc: 0.5794\n",
      "Epoch 1/1\n",
      "1600/1600 [==============================] - 1s 419us/step - loss: 0.6931 - acc: 0.5206\n",
      "Epoch 1/1\n",
      "1600/1600 [==============================] - 1s 440us/step - loss: 0.6930 - acc: 0.5188\n",
      "Epoch 1/1\n",
      "1600/1600 [==============================] - 1s 454us/step - loss: 0.6930 - acc: 0.4988\n",
      "Epoch 1/1\n",
      "1600/1600 [==============================] - 1s 484us/step - loss: 0.6930 - acc: 0.5619\n",
      "Epoch 1/1\n",
      "1600/1600 [==============================] - 1s 449us/step - loss: 0.6930 - acc: 0.5000\n",
      "Epoch 1/1\n",
      "1600/1600 [==============================] - 1s 485us/step - loss: 0.6930 - acc: 0.5031\n",
      "Epoch 1/1\n",
      "1600/1600 [==============================] - 1s 530us/step - loss: 0.6923 - acc: 0.5169\n",
      "Epoch 1/1\n",
      "1600/1600 [==============================] - 1s 518us/step - loss: 0.6927 - acc: 0.5963\n",
      "Epoch 1/1\n",
      "1600/1600 [==============================] - 1s 572us/step - loss: 0.6931 - acc: 0.4988\n",
      "Epoch 1/1\n",
      "1600/1600 [==============================] - 1s 559us/step - loss: 0.6928 - acc: 0.5012\n",
      "Epoch 1/1\n",
      "1600/1600 [==============================] - 1s 631us/step - loss: 0.6928 - acc: 0.5800\n",
      "Epoch 1/1\n",
      "1600/1600 [==============================] - 1s 592us/step - loss: 0.6925 - acc: 0.5138\n",
      "Epoch 1/1\n",
      "1600/1600 [==============================] - 1s 660us/step - loss: 0.6930 - acc: 0.5287\n",
      "Epoch 1/1\n",
      "1600/1600 [==============================] - 1s 614us/step - loss: 0.6929 - acc: 0.5306\n",
      "Epoch 1/1\n",
      "1600/1600 [==============================] - 1s 590us/step - loss: 0.6915 - acc: 0.6281\n",
      "Epoch 1/1\n",
      "1600/1600 [==============================] - 1s 606us/step - loss: 0.6918 - acc: 0.5312\n",
      "Epoch 1/1\n",
      "1600/1600 [==============================] - 1s 604us/step - loss: 0.6923 - acc: 0.5125\n",
      "Epoch 1/1\n",
      "1600/1600 [==============================] - 1s 610us/step - loss: 0.6925 - acc: 0.5656\n",
      "Epoch 1/1\n",
      "1600/1600 [==============================] - 1s 677us/step - loss: 0.6910 - acc: 0.6375\n",
      "Epoch 1/1\n",
      "1600/1600 [==============================] - 1s 735us/step - loss: 0.6920 - acc: 0.6188\n",
      "Epoch 1/1\n",
      "1600/1600 [==============================] - 1s 688us/step - loss: 0.6928 - acc: 0.5925\n",
      "Epoch 1/1\n",
      "1600/1600 [==============================] - 1s 694us/step - loss: 0.6924 - acc: 0.4969\n",
      "Epoch 1/1\n",
      "1600/1600 [==============================] - 1s 719us/step - loss: 0.6926 - acc: 0.6056\n",
      "Epoch 1/1\n",
      "1600/1600 [==============================] - 1s 738us/step - loss: 0.6925 - acc: 0.5844\n",
      "Epoch 1/1\n",
      "1600/1600 [==============================] - 1s 715us/step - loss: 0.6908 - acc: 0.6500\n",
      "Epoch 1/1\n",
      "1600/1600 [==============================] - 1s 720us/step - loss: 0.6914 - acc: 0.5331\n",
      "Epoch 1/1\n",
      "1600/1600 [==============================] - 1s 728us/step - loss: 0.6920 - acc: 0.5112\n",
      "Epoch 1/1\n",
      "1600/1600 [==============================] - 1s 737us/step - loss: 0.6907 - acc: 0.5556\n",
      "Epoch 1/1\n",
      "1600/1600 [==============================] - 1s 799us/step - loss: 0.6907 - acc: 0.6319\n",
      "Epoch 1/1\n",
      "1600/1600 [==============================] - 1s 862us/step - loss: 0.6932 - acc: 0.5031\n",
      "Epoch 1/1\n",
      "1600/1600 [==============================] - 1s 867us/step - loss: 0.6932 - acc: 0.5031\n",
      "Epoch 1/1\n",
      "1600/1600 [==============================] - 2s 945us/step - loss: 0.6931 - acc: 0.5150\n",
      "Epoch 1/1\n",
      "1600/1600 [==============================] - 1s 898us/step - loss: 0.6932 - acc: 0.4869\n",
      "Epoch 1/1\n",
      "1600/1600 [==============================] - 2s 966us/step - loss: 0.6932 - acc: 0.4937\n",
      "Epoch 1/1\n",
      "1600/1600 [==============================] - 1s 917us/step - loss: 0.6932 - acc: 0.4913\n",
      "Epoch 1/1\n",
      "1600/1600 [==============================] - 1s 931us/step - loss: 0.6932 - acc: 0.4969\n",
      "Epoch 1/1\n",
      "1600/1600 [==============================] - 1s 924us/step - loss: 0.6932 - acc: 0.5075\n",
      "Epoch 1/1\n",
      "1600/1600 [==============================] - 2s 942us/step - loss: 0.6932 - acc: 0.4925\n",
      "Epoch 1/1\n",
      "1600/1600 [==============================] - 1s 933us/step - loss: 0.6932 - acc: 0.4813\n",
      "Epoch 1/1\n",
      "1600/1600 [==============================] - 2s 994us/step - loss: 0.6932 - acc: 0.5044\n",
      "Epoch 1/1\n",
      "1600/1600 [==============================] - 2s 1ms/step - loss: 0.6932 - acc: 0.4950\n",
      "Epoch 1/1\n",
      "1600/1600 [==============================] - 2s 1ms/step - loss: 0.6932 - acc: 0.5000\n",
      "Epoch 1/1\n",
      "1600/1600 [==============================] - 2s 1ms/step - loss: 0.6932 - acc: 0.4913\n",
      "Epoch 1/1\n",
      "1600/1600 [==============================] - 2s 1ms/step - loss: 0.6932 - acc: 0.4819\n",
      "Epoch 1/1\n",
      "1600/1600 [==============================] - 2s 1ms/step - loss: 0.6932 - acc: 0.4838\n",
      "Epoch 1/1\n",
      "1600/1600 [==============================] - 2s 1ms/step - loss: 0.6932 - acc: 0.5056\n",
      "Epoch 1/1\n",
      "1600/1600 [==============================] - 2s 1ms/step - loss: 0.6931 - acc: 0.5044\n",
      "Epoch 1/1\n",
      "1600/1600 [==============================] - 2s 1ms/step - loss: 0.6932 - acc: 0.5000\n",
      "Epoch 1/1\n",
      "1600/1600 [==============================] - 2s 1ms/step - loss: 0.6932 - acc: 0.4875\n",
      "Epoch 1/1\n",
      "1600/1600 [==============================] - 2s 1ms/step - loss: 0.6932 - acc: 0.4900\n",
      "Epoch 1/1\n",
      "1600/1600 [==============================] - 2s 1ms/step - loss: 0.6932 - acc: 0.4800\n",
      "Epoch 1/1\n",
      "1600/1600 [==============================] - 2s 1ms/step - loss: 0.6931 - acc: 0.5025\n",
      "Epoch 1/1\n",
      "1600/1600 [==============================] - 2s 1ms/step - loss: 0.6932 - acc: 0.4988\n",
      "Epoch 1/1\n",
      "1600/1600 [==============================] - 2s 1ms/step - loss: 0.6932 - acc: 0.4963\n",
      "Epoch 1/1\n",
      "1600/1600 [==============================] - 2s 1ms/step - loss: 0.6932 - acc: 0.4925\n",
      "Epoch 1/1\n",
      "1600/1600 [==============================] - 2s 1ms/step - loss: 0.6932 - acc: 0.4731\n",
      "Epoch 1/1\n",
      "1600/1600 [==============================] - 2s 1ms/step - loss: 0.6932 - acc: 0.4906\n",
      "Epoch 1/1\n",
      "1600/1600 [==============================] - 2s 1ms/step - loss: 0.6932 - acc: 0.4950\n",
      "Epoch 1/1\n",
      "1600/1600 [==============================] - 2s 1ms/step - loss: 0.6932 - acc: 0.4988\n",
      "Epoch 1/1\n",
      "1600/1600 [==============================] - 2s 1ms/step - loss: 0.6932 - acc: 0.4981\n",
      "Epoch 1/1\n",
      "1600/1600 [==============================] - 2s 1ms/step - loss: 0.6932 - acc: 0.4725\n",
      "Epoch 1/1\n",
      "1600/1600 [==============================] - 2s 1ms/step - loss: 0.6931 - acc: 0.4963\n",
      "Epoch 1/1\n",
      "1600/1600 [==============================] - 2s 1ms/step - loss: 0.6932 - acc: 0.4919\n",
      "Epoch 1/1\n"
     ]
    },
    {
     "name": "stdout",
     "output_type": "stream",
     "text": [
      "1600/1600 [==============================] - 2s 1ms/step - loss: 0.6932 - acc: 0.4988\n",
      "Epoch 1/1\n",
      "1600/1600 [==============================] - 2s 1ms/step - loss: 0.6932 - acc: 0.5100\n",
      "Epoch 1/1\n",
      "1600/1600 [==============================] - 2s 1ms/step - loss: 0.6932 - acc: 0.5019\n",
      "Epoch 1/1\n",
      "1600/1600 [==============================] - 2s 1ms/step - loss: 0.6931 - acc: 0.5106\n",
      "Epoch 1/1\n",
      "1600/1600 [==============================] - 2s 2ms/step - loss: 0.6931 - acc: 0.5019\n",
      "Epoch 1/1\n",
      "1600/1600 [==============================] - 2s 1ms/step - loss: 0.6926 - acc: 0.4950\n",
      "Epoch 1/1\n",
      "1600/1600 [==============================] - 2s 2ms/step - loss: 0.6931 - acc: 0.5012\n",
      "Epoch 1/1\n",
      "1600/1600 [==============================] - 2s 2ms/step - loss: 0.6932 - acc: 0.4894\n",
      "Epoch 1/1\n",
      "1600/1600 [==============================] - 3s 2ms/step - loss: 0.6931 - acc: 0.5081\n",
      "Epoch 1/1\n",
      "1600/1600 [==============================] - 3s 2ms/step - loss: 0.6932 - acc: 0.5000\n",
      "Epoch 1/1\n",
      "1600/1600 [==============================] - 3s 2ms/step - loss: 0.6931 - acc: 0.4944\n",
      "Epoch 1/1\n",
      "1600/1600 [==============================] - 2s 2ms/step - loss: 0.6931 - acc: 0.5050\n",
      "Epoch 1/1\n",
      "1600/1600 [==============================] - 3s 2ms/step - loss: 0.6932 - acc: 0.4719\n",
      "Epoch 1/1\n",
      "1600/1600 [==============================] - 3s 2ms/step - loss: 0.6929 - acc: 0.5025\n",
      "Epoch 1/1\n",
      "1600/1600 [==============================] - 3s 2ms/step - loss: 0.6924 - acc: 0.6006\n",
      "Epoch 1/1\n",
      "1600/1600 [==============================] - 3s 2ms/step - loss: 0.6931 - acc: 0.5106\n",
      "Epoch 1/1\n",
      "1600/1600 [==============================] - 3s 2ms/step - loss: 0.6932 - acc: 0.4838\n",
      "Epoch 1/1\n",
      "1600/1600 [==============================] - 3s 2ms/step - loss: 0.6932 - acc: 0.4794\n",
      "Epoch 1/1\n",
      "1600/1600 [==============================] - 3s 2ms/step - loss: 0.6931 - acc: 0.5119\n",
      "Epoch 1/1\n",
      "1600/1600 [==============================] - 3s 2ms/step - loss: 0.6932 - acc: 0.4800\n",
      "Epoch 1/1\n",
      "1600/1600 [==============================] - 3s 2ms/step - loss: 0.6932 - acc: 0.4675\n",
      "Epoch 1/1\n",
      "1600/1600 [==============================] - 3s 2ms/step - loss: 0.6932 - acc: 0.4900\n",
      "Epoch 1/1\n",
      "  32/1600 [..............................] - ETA: 2:36 - loss: 0.6931 - acc: 0.6250"
     ]
    }
   ],
   "source": [
    "from keras.wrappers.scikit_learn import KerasClassifier\n",
    "neural_clf=KerasClassifier(build_fn=neural_network)\n",
    "hyperparams={'node_count':[3,5,7,9,11],\n",
    "            'layer_count':[2,3,4,5,6],\n",
    "            'optimizer':['adam','rmsprop']}\n",
    "from sklearn.model_selection import GridSearchCV\n",
    "grid_object=GridSearchCV(estimator=neural_clf,param_grid=hyperparams,cv=5,scoring='accuracy')\n",
    "grid_object.fit(X_train,Y_train)"
   ]
  },
  {
   "cell_type": "code",
   "execution_count": null,
   "metadata": {},
   "outputs": [],
   "source": []
  }
 ],
 "metadata": {
  "kernelspec": {
   "display_name": "Python 3",
   "language": "python",
   "name": "python3"
  },
  "language_info": {
   "codemirror_mode": {
    "name": "ipython",
    "version": 3
   },
   "file_extension": ".py",
   "mimetype": "text/x-python",
   "name": "python",
   "nbconvert_exporter": "python",
   "pygments_lexer": "ipython3",
   "version": "3.6.5"
  }
 },
 "nbformat": 4,
 "nbformat_minor": 2
}
