{
 "cells": [
  {
   "cell_type": "code",
   "execution_count": null,
   "metadata": {},
   "outputs": [],
   "source": []
  },
  {
   "cell_type": "code",
   "execution_count": null,
   "metadata": {},
   "outputs": [],
   "source": []
  },
  {
   "cell_type": "code",
   "execution_count": 1,
   "metadata": {},
   "outputs": [
    {
     "name": "stdout",
     "output_type": "stream",
     "text": [
      "Populating the interactive namespace from numpy and matplotlib\n"
     ]
    }
   ],
   "source": [
    "import pandas as pd\n",
    "import numpy as np\n",
    "import matplotlib.pyplot as plt\n",
    "%pylab inline"
   ]
  },
  {
   "cell_type": "code",
   "execution_count": 2,
   "metadata": {},
   "outputs": [
    {
     "data": {
      "text/html": [
       "<div>\n",
       "<style scoped>\n",
       "    .dataframe tbody tr th:only-of-type {\n",
       "        vertical-align: middle;\n",
       "    }\n",
       "\n",
       "    .dataframe tbody tr th {\n",
       "        vertical-align: top;\n",
       "    }\n",
       "\n",
       "    .dataframe thead th {\n",
       "        text-align: right;\n",
       "    }\n",
       "</style>\n",
       "<table border=\"1\" class=\"dataframe\">\n",
       "  <thead>\n",
       "    <tr style=\"text-align: right;\">\n",
       "      <th></th>\n",
       "      <th>Date</th>\n",
       "      <th>Open</th>\n",
       "      <th>High</th>\n",
       "      <th>Low</th>\n",
       "      <th>Close</th>\n",
       "      <th>Adj Close</th>\n",
       "      <th>Volume</th>\n",
       "    </tr>\n",
       "  </thead>\n",
       "  <tbody>\n",
       "    <tr>\n",
       "      <th>0</th>\n",
       "      <td>2014-09-29</td>\n",
       "      <td>100.589996</td>\n",
       "      <td>100.690002</td>\n",
       "      <td>98.040001</td>\n",
       "      <td>99.620003</td>\n",
       "      <td>93.514290</td>\n",
       "      <td>142718700</td>\n",
       "    </tr>\n",
       "    <tr>\n",
       "      <th>1</th>\n",
       "      <td>2014-10-06</td>\n",
       "      <td>99.949997</td>\n",
       "      <td>102.379997</td>\n",
       "      <td>98.309998</td>\n",
       "      <td>100.730003</td>\n",
       "      <td>94.556244</td>\n",
       "      <td>280258200</td>\n",
       "    </tr>\n",
       "    <tr>\n",
       "      <th>2</th>\n",
       "      <td>2014-10-13</td>\n",
       "      <td>101.330002</td>\n",
       "      <td>101.779999</td>\n",
       "      <td>95.180000</td>\n",
       "      <td>97.669998</td>\n",
       "      <td>91.683792</td>\n",
       "      <td>358539800</td>\n",
       "    </tr>\n",
       "    <tr>\n",
       "      <th>3</th>\n",
       "      <td>2014-10-20</td>\n",
       "      <td>98.320000</td>\n",
       "      <td>105.489998</td>\n",
       "      <td>98.220001</td>\n",
       "      <td>105.220001</td>\n",
       "      <td>98.771042</td>\n",
       "      <td>358532900</td>\n",
       "    </tr>\n",
       "    <tr>\n",
       "      <th>4</th>\n",
       "      <td>2014-10-27</td>\n",
       "      <td>104.849998</td>\n",
       "      <td>108.040001</td>\n",
       "      <td>104.699997</td>\n",
       "      <td>108.000000</td>\n",
       "      <td>101.380676</td>\n",
       "      <td>220230600</td>\n",
       "    </tr>\n",
       "  </tbody>\n",
       "</table>\n",
       "</div>"
      ],
      "text/plain": [
       "         Date        Open        High         Low       Close   Adj Close  \\\n",
       "0  2014-09-29  100.589996  100.690002   98.040001   99.620003   93.514290   \n",
       "1  2014-10-06   99.949997  102.379997   98.309998  100.730003   94.556244   \n",
       "2  2014-10-13  101.330002  101.779999   95.180000   97.669998   91.683792   \n",
       "3  2014-10-20   98.320000  105.489998   98.220001  105.220001   98.771042   \n",
       "4  2014-10-27  104.849998  108.040001  104.699997  108.000000  101.380676   \n",
       "\n",
       "      Volume  \n",
       "0  142718700  \n",
       "1  280258200  \n",
       "2  358539800  \n",
       "3  358532900  \n",
       "4  220230600  "
      ]
     },
     "execution_count": 2,
     "metadata": {},
     "output_type": "execute_result"
    }
   ],
   "source": [
    "aapl_data=pd.read_csv('AAPL.csv')\n",
    "delay_list=[]\n",
    "score_list=[]\n",
    "aapl_data.head()"
   ]
  },
  {
   "cell_type": "markdown",
   "metadata": {},
   "source": [
    "#### Computing r2_score for delay = 1 :"
   ]
  },
  {
   "cell_type": "code",
   "execution_count": 3,
   "metadata": {},
   "outputs": [
    {
     "name": "stdout",
     "output_type": "stream",
     "text": [
      "<class 'pandas.core.frame.DataFrame'>\n",
      "RangeIndex: 173 entries, 0 to 172\n",
      "Data columns (total 2 columns):\n",
      "day_first     173 non-null float64\n",
      "day_fourth    173 non-null float64\n",
      "dtypes: float64(2)\n",
      "memory usage: 2.8 KB\n"
     ]
    }
   ],
   "source": [
    "from sklearn.metrics import r2_score\n",
    "\n",
    "X_train=aapl_data.loc[0:120,'Close']\n",
    "Y_train=aapl_data.loc[1:121,'Close']\n",
    "\n",
    "X_test=aapl_data.loc[122:173,'Close']\n",
    "Y_test=aapl_data.loc[123:174,'Close']\n",
    "\n",
    "training_data=pd.DataFrame()\n",
    "training_data['day_first']=X_train.tolist()\n",
    "training_data['day_fourth']=Y_train.tolist()\n",
    "\n",
    "testing_data=pd.DataFrame()\n",
    "testing_data['day_first']=X_test.tolist()\n",
    "testing_data['day_fourth']=Y_test.tolist()\n",
    "\n",
    "main_data=pd.concat([training_data,testing_data])\n",
    "main_data=main_data.reset_index(drop=True)\n",
    "\n",
    "main_data.info()"
   ]
  },
  {
   "cell_type": "code",
   "execution_count": 4,
   "metadata": {},
   "outputs": [
    {
     "name": "stdout",
     "output_type": "stream",
     "text": [
      "[0.9712132556098128]\n",
      "[1]\n"
     ]
    },
    {
     "name": "stderr",
     "output_type": "stream",
     "text": [
      "C:\\User1\\lib\\site-packages\\sklearn\\model_selection\\_split.py:2026: FutureWarning: From version 0.21, test_size will always complement train_size unless both are specified.\n",
      "  FutureWarning)\n"
     ]
    }
   ],
   "source": [
    "X=main_data.loc[:,'day_first'].values.reshape(173,1)\n",
    "Y=main_data.loc[:,'day_fourth'].values.reshape(173,1)\n",
    "\n",
    "from sklearn.model_selection import train_test_split\n",
    "X_train,X_test,Y_train,Y_test=train_test_split(X,Y,train_size=120)\n",
    "                                               \n",
    "from sklearn.linear_model import LinearRegression\n",
    "linreg=LinearRegression()\n",
    "linreg.fit(X_train,Y_train)\n",
    "Y_pred=linreg.predict(X_test)\n",
    "\n",
    "score_list.append(r2_score(Y_test,Y_pred))  \n",
    "delay_list.append(1)\n",
    "print(score_list)\n",
    "print(delay_list)"
   ]
  },
  {
   "cell_type": "markdown",
   "metadata": {},
   "source": [
    "#### Computing r2_score for delay = 2 :\n"
   ]
  },
  {
   "cell_type": "code",
   "execution_count": 5,
   "metadata": {},
   "outputs": [
    {
     "name": "stdout",
     "output_type": "stream",
     "text": [
      "<class 'pandas.core.frame.DataFrame'>\n",
      "RangeIndex: 172 entries, 0 to 171\n",
      "Data columns (total 2 columns):\n",
      "day_first     172 non-null float64\n",
      "day_fourth    172 non-null float64\n",
      "dtypes: float64(2)\n",
      "memory usage: 2.8 KB\n"
     ]
    }
   ],
   "source": [
    "from sklearn.metrics import r2_score\n",
    "\n",
    "X_train=aapl_data.loc[0:120,'Close']\n",
    "Y_train=aapl_data.loc[2:122,'Close']\n",
    "\n",
    "X_test=aapl_data.loc[123:173,'Close']\n",
    "Y_test=aapl_data.loc[125:175,'Close']\n",
    "\n",
    "training_data=pd.DataFrame()\n",
    "training_data['day_first']=X_train.tolist()\n",
    "training_data['day_fourth']=Y_train.tolist()\n",
    "\n",
    "testing_data=pd.DataFrame()\n",
    "testing_data['day_first']=X_test.tolist()\n",
    "testing_data['day_fourth']=Y_test.tolist()\n",
    "\n",
    "main_data=pd.concat([training_data,testing_data])\n",
    "main_data=main_data.reset_index(drop=True)\n",
    "\n",
    "main_data.info()"
   ]
  },
  {
   "cell_type": "code",
   "execution_count": 6,
   "metadata": {},
   "outputs": [
    {
     "name": "stdout",
     "output_type": "stream",
     "text": [
      "[0.9712132556098128, 0.9339778896425197]\n",
      "[1, 2]\n"
     ]
    },
    {
     "name": "stderr",
     "output_type": "stream",
     "text": [
      "C:\\User1\\lib\\site-packages\\sklearn\\model_selection\\_split.py:2026: FutureWarning: From version 0.21, test_size will always complement train_size unless both are specified.\n",
      "  FutureWarning)\n"
     ]
    }
   ],
   "source": [
    "X=main_data.loc[:,'day_first'].values.reshape(172,1)\n",
    "Y=main_data.loc[:,'day_fourth'].values.reshape(172,1)\n",
    "\n",
    "from sklearn.model_selection import train_test_split\n",
    "X_train,X_test,Y_train,Y_test=train_test_split(X,Y,train_size=120)\n",
    "                                               \n",
    "from sklearn.linear_model import LinearRegression\n",
    "linreg=LinearRegression()\n",
    "linreg.fit(X_train,Y_train)\n",
    "Y_pred=linreg.predict(X_test)\n",
    "\n",
    "score_list.append(r2_score(Y_test,Y_pred))  \n",
    "delay_list.append(2)\n",
    "print(score_list)\n",
    "print(delay_list)"
   ]
  },
  {
   "cell_type": "markdown",
   "metadata": {},
   "source": [
    "#### Computing r2_score for delay = 3 :\n"
   ]
  },
  {
   "cell_type": "code",
   "execution_count": 7,
   "metadata": {},
   "outputs": [
    {
     "name": "stdout",
     "output_type": "stream",
     "text": [
      "<class 'pandas.core.frame.DataFrame'>\n",
      "RangeIndex: 171 entries, 0 to 170\n",
      "Data columns (total 2 columns):\n",
      "day_first     171 non-null float64\n",
      "day_fourth    171 non-null float64\n",
      "dtypes: float64(2)\n",
      "memory usage: 2.8 KB\n"
     ]
    }
   ],
   "source": [
    "from sklearn.metrics import r2_score\n",
    "\n",
    "X_train=aapl_data.loc[0:120,'Close']\n",
    "Y_train=aapl_data.loc[3:123,'Close']\n",
    "\n",
    "X_test=aapl_data.loc[124:173,'Close']\n",
    "Y_test=aapl_data.loc[127:176,'Close']\n",
    "\n",
    "training_data=pd.DataFrame()\n",
    "training_data['day_first']=X_train.tolist()\n",
    "training_data['day_fourth']=Y_train.tolist()\n",
    "\n",
    "testing_data=pd.DataFrame()\n",
    "testing_data['day_first']=X_test.tolist()\n",
    "testing_data['day_fourth']=Y_test.tolist()\n",
    "\n",
    "main_data=pd.concat([training_data,testing_data])\n",
    "main_data=main_data.reset_index(drop=True)\n",
    "\n",
    "main_data.info()"
   ]
  },
  {
   "cell_type": "code",
   "execution_count": 8,
   "metadata": {},
   "outputs": [
    {
     "name": "stdout",
     "output_type": "stream",
     "text": [
      "[0.9712132556098128, 0.9339778896425197, 0.9129136457675417]\n",
      "[1, 2, 3]\n"
     ]
    },
    {
     "name": "stderr",
     "output_type": "stream",
     "text": [
      "C:\\User1\\lib\\site-packages\\sklearn\\model_selection\\_split.py:2026: FutureWarning: From version 0.21, test_size will always complement train_size unless both are specified.\n",
      "  FutureWarning)\n"
     ]
    }
   ],
   "source": [
    "X=main_data.loc[:,'day_first'].values.reshape(171,1)\n",
    "Y=main_data.loc[:,'day_fourth'].values.reshape(171,1)\n",
    "\n",
    "from sklearn.model_selection import train_test_split\n",
    "X_train,X_test,Y_train,Y_test=train_test_split(X,Y,train_size=120)\n",
    "                                               \n",
    "from sklearn.linear_model import LinearRegression\n",
    "linreg=LinearRegression()\n",
    "linreg.fit(X_train,Y_train)\n",
    "Y_pred=linreg.predict(X_test)\n",
    "\n",
    "score_list.append(r2_score(Y_test,Y_pred))  \n",
    "delay_list.append(3)\n",
    "print(score_list)\n",
    "print(delay_list)"
   ]
  },
  {
   "cell_type": "markdown",
   "metadata": {},
   "source": [
    "#### Computing r2_score for delay = 4 :\n"
   ]
  },
  {
   "cell_type": "code",
   "execution_count": 9,
   "metadata": {},
   "outputs": [
    {
     "name": "stdout",
     "output_type": "stream",
     "text": [
      "<class 'pandas.core.frame.DataFrame'>\n",
      "RangeIndex: 170 entries, 0 to 169\n",
      "Data columns (total 2 columns):\n",
      "day_first     170 non-null float64\n",
      "day_fourth    170 non-null float64\n",
      "dtypes: float64(2)\n",
      "memory usage: 2.7 KB\n"
     ]
    }
   ],
   "source": [
    "from sklearn.metrics import r2_score\n",
    "\n",
    "X_train=aapl_data.loc[0:120,'Close']\n",
    "Y_train=aapl_data.loc[4:124,'Close']\n",
    "\n",
    "X_test=aapl_data.loc[125:173,'Close']\n",
    "Y_test=aapl_data.loc[129:177,'Close']\n",
    "\n",
    "training_data=pd.DataFrame()\n",
    "training_data['day_first']=X_train.tolist()\n",
    "training_data['day_fourth']=Y_train.tolist()\n",
    "\n",
    "testing_data=pd.DataFrame()\n",
    "testing_data['day_first']=X_test.tolist()\n",
    "testing_data['day_fourth']=Y_test.tolist()\n",
    "\n",
    "main_data=pd.concat([training_data,testing_data])\n",
    "main_data=main_data.reset_index(drop=True)\n",
    "\n",
    "main_data.info()"
   ]
  },
  {
   "cell_type": "code",
   "execution_count": 10,
   "metadata": {},
   "outputs": [
    {
     "name": "stdout",
     "output_type": "stream",
     "text": [
      "[0.9712132556098128, 0.9339778896425197, 0.9129136457675417, 0.8352064661707808]\n",
      "[1, 2, 3, 4]\n"
     ]
    },
    {
     "name": "stderr",
     "output_type": "stream",
     "text": [
      "C:\\User1\\lib\\site-packages\\sklearn\\model_selection\\_split.py:2026: FutureWarning: From version 0.21, test_size will always complement train_size unless both are specified.\n",
      "  FutureWarning)\n"
     ]
    }
   ],
   "source": [
    "X=main_data.loc[:,'day_first'].values.reshape(170,1)\n",
    "Y=main_data.loc[:,'day_fourth'].values.reshape(170,1)\n",
    "\n",
    "from sklearn.model_selection import train_test_split\n",
    "X_train,X_test,Y_train,Y_test=train_test_split(X,Y,train_size=120)\n",
    "                                               \n",
    "from sklearn.linear_model import LinearRegression\n",
    "linreg=LinearRegression()\n",
    "linreg.fit(X_train,Y_train)\n",
    "Y_pred=linreg.predict(X_test)\n",
    "\n",
    "score_list.append(r2_score(Y_test,Y_pred))  \n",
    "delay_list.append(4)\n",
    "print(score_list)\n",
    "print(delay_list)"
   ]
  },
  {
   "cell_type": "markdown",
   "metadata": {},
   "source": [
    "#### Computing r2_score for delay = 5 :\n"
   ]
  },
  {
   "cell_type": "code",
   "execution_count": 11,
   "metadata": {},
   "outputs": [
    {
     "name": "stdout",
     "output_type": "stream",
     "text": [
      "<class 'pandas.core.frame.DataFrame'>\n",
      "RangeIndex: 169 entries, 0 to 168\n",
      "Data columns (total 2 columns):\n",
      "day_first     169 non-null float64\n",
      "day_fourth    169 non-null float64\n",
      "dtypes: float64(2)\n",
      "memory usage: 2.7 KB\n"
     ]
    }
   ],
   "source": [
    "from sklearn.metrics import r2_score\n",
    "\n",
    "X_train=aapl_data.loc[0:120,'Close']\n",
    "Y_train=aapl_data.loc[5:125,'Close']\n",
    "\n",
    "X_test=aapl_data.loc[126:173,'Close']\n",
    "Y_test=aapl_data.loc[131:178,'Close']\n",
    "\n",
    "training_data=pd.DataFrame()\n",
    "training_data['day_first']=X_train.tolist()\n",
    "training_data['day_fourth']=Y_train.tolist()\n",
    "\n",
    "testing_data=pd.DataFrame()\n",
    "testing_data['day_first']=X_test.tolist()\n",
    "testing_data['day_fourth']=Y_test.tolist()\n",
    "\n",
    "main_data=pd.concat([training_data,testing_data])\n",
    "main_data=main_data.reset_index(drop=True)\n",
    "\n",
    "main_data.info()"
   ]
  },
  {
   "cell_type": "code",
   "execution_count": 12,
   "metadata": {},
   "outputs": [
    {
     "name": "stdout",
     "output_type": "stream",
     "text": [
      "[0.9712132556098128, 0.9339778896425197, 0.9129136457675417, 0.8352064661707808, 0.8527442627828965]\n",
      "[1, 2, 3, 4, 5]\n"
     ]
    },
    {
     "name": "stderr",
     "output_type": "stream",
     "text": [
      "C:\\User1\\lib\\site-packages\\sklearn\\model_selection\\_split.py:2026: FutureWarning: From version 0.21, test_size will always complement train_size unless both are specified.\n",
      "  FutureWarning)\n"
     ]
    }
   ],
   "source": [
    "X=main_data.loc[:,'day_first'].values.reshape(169,1)\n",
    "Y=main_data.loc[:,'day_fourth'].values.reshape(169,1)\n",
    "\n",
    "from sklearn.model_selection import train_test_split\n",
    "X_train,X_test,Y_train,Y_test=train_test_split(X,Y,train_size=120)\n",
    "                                               \n",
    "from sklearn.linear_model import LinearRegression\n",
    "linreg=LinearRegression()\n",
    "linreg.fit(X_train,Y_train)\n",
    "Y_pred=linreg.predict(X_test)\n",
    "\n",
    "score_list.append(r2_score(Y_test,Y_pred))  \n",
    "delay_list.append(5)\n",
    "print(score_list)\n",
    "print(delay_list)"
   ]
  },
  {
   "cell_type": "code",
   "execution_count": 13,
   "metadata": {},
   "outputs": [
    {
     "data": {
      "text/plain": [
       "169"
      ]
     },
     "execution_count": 13,
     "metadata": {},
     "output_type": "execute_result"
    }
   ],
   "source": [
    "len(main_data.axes[0])"
   ]
  },
  {
   "cell_type": "markdown",
   "metadata": {},
   "source": [
    "#### Computing r2_score for delay = 6 :\n"
   ]
  },
  {
   "cell_type": "code",
   "execution_count": 14,
   "metadata": {},
   "outputs": [
    {
     "name": "stdout",
     "output_type": "stream",
     "text": [
      "<class 'pandas.core.frame.DataFrame'>\n",
      "RangeIndex: 168 entries, 0 to 167\n",
      "Data columns (total 2 columns):\n",
      "day_first     168 non-null float64\n",
      "day_fourth    168 non-null float64\n",
      "dtypes: float64(2)\n",
      "memory usage: 2.7 KB\n"
     ]
    }
   ],
   "source": [
    "from sklearn.metrics import r2_score\n",
    "\n",
    "X_train=aapl_data.loc[0:120,'Close']\n",
    "Y_train=aapl_data.loc[6:126,'Close']\n",
    "\n",
    "X_test=aapl_data.loc[127:173,'Close']\n",
    "Y_test=aapl_data.loc[133:179,'Close']\n",
    "\n",
    "training_data=pd.DataFrame()\n",
    "training_data['day_first']=X_train.tolist()\n",
    "training_data['day_fourth']=Y_train.tolist()\n",
    "\n",
    "testing_data=pd.DataFrame()\n",
    "testing_data['day_first']=X_test.tolist()\n",
    "testing_data['day_fourth']=Y_test.tolist()\n",
    "\n",
    "main_data=pd.concat([training_data,testing_data])\n",
    "main_data=main_data.reset_index(drop=True)\n",
    "\n",
    "main_data.info()"
   ]
  },
  {
   "cell_type": "code",
   "execution_count": 15,
   "metadata": {},
   "outputs": [
    {
     "name": "stdout",
     "output_type": "stream",
     "text": [
      "[0.9712132556098128, 0.9339778896425197, 0.9129136457675417, 0.8352064661707808, 0.8527442627828965, 0.8929958099362366]\n",
      "[1, 2, 3, 4, 5, 6]\n"
     ]
    },
    {
     "name": "stderr",
     "output_type": "stream",
     "text": [
      "C:\\User1\\lib\\site-packages\\sklearn\\model_selection\\_split.py:2026: FutureWarning: From version 0.21, test_size will always complement train_size unless both are specified.\n",
      "  FutureWarning)\n"
     ]
    }
   ],
   "source": [
    "X=main_data.loc[:,'day_first'].values.reshape(168,1)\n",
    "Y=main_data.loc[:,'day_fourth'].values.reshape(168,1)\n",
    "\n",
    "from sklearn.model_selection import train_test_split\n",
    "X_train,X_test,Y_train,Y_test=train_test_split(X,Y,train_size=120)\n",
    "                                               \n",
    "from sklearn.linear_model import LinearRegression\n",
    "linreg=LinearRegression()\n",
    "linreg.fit(X_train,Y_train)\n",
    "Y_pred=linreg.predict(X_test)\n",
    "\n",
    "score_list.append(r2_score(Y_test,Y_pred))  \n",
    "delay_list.append(6)\n",
    "print(score_list)\n",
    "print(delay_list)"
   ]
  },
  {
   "cell_type": "markdown",
   "metadata": {},
   "source": [
    "#### Computing r2_score for delay = 7 :\n"
   ]
  },
  {
   "cell_type": "code",
   "execution_count": 16,
   "metadata": {},
   "outputs": [
    {
     "name": "stdout",
     "output_type": "stream",
     "text": [
      "<class 'pandas.core.frame.DataFrame'>\n",
      "RangeIndex: 167 entries, 0 to 166\n",
      "Data columns (total 2 columns):\n",
      "day_first     167 non-null float64\n",
      "day_fourth    167 non-null float64\n",
      "dtypes: float64(2)\n",
      "memory usage: 2.7 KB\n"
     ]
    }
   ],
   "source": [
    "from sklearn.metrics import r2_score\n",
    "\n",
    "X_train=aapl_data.loc[0:120,'Close']\n",
    "Y_train=aapl_data.loc[7:127,'Close']\n",
    "\n",
    "X_test=aapl_data.loc[128:173,'Close']\n",
    "Y_test=aapl_data.loc[135:180,'Close']\n",
    "\n",
    "training_data=pd.DataFrame()\n",
    "training_data['day_first']=X_train.tolist()\n",
    "training_data['day_fourth']=Y_train.tolist()\n",
    "\n",
    "testing_data=pd.DataFrame()\n",
    "testing_data['day_first']=X_test.tolist()\n",
    "testing_data['day_fourth']=Y_test.tolist()\n",
    "\n",
    "main_data=pd.concat([training_data,testing_data])\n",
    "main_data=main_data.reset_index(drop=True)\n",
    "\n",
    "main_data.info()"
   ]
  },
  {
   "cell_type": "code",
   "execution_count": 17,
   "metadata": {},
   "outputs": [
    {
     "name": "stdout",
     "output_type": "stream",
     "text": [
      "[0.9712132556098128, 0.9339778896425197, 0.9129136457675417, 0.8352064661707808, 0.8527442627828965, 0.8929958099362366, 0.8177824259744768]\n",
      "[1, 2, 3, 4, 5, 6, 7]\n"
     ]
    },
    {
     "name": "stderr",
     "output_type": "stream",
     "text": [
      "C:\\User1\\lib\\site-packages\\sklearn\\model_selection\\_split.py:2026: FutureWarning: From version 0.21, test_size will always complement train_size unless both are specified.\n",
      "  FutureWarning)\n"
     ]
    }
   ],
   "source": [
    "X=main_data.loc[:,'day_first'].values.reshape(167,1)\n",
    "Y=main_data.loc[:,'day_fourth'].values.reshape(167,1)\n",
    "\n",
    "from sklearn.model_selection import train_test_split\n",
    "X_train,X_test,Y_train,Y_test=train_test_split(X,Y,train_size=120)\n",
    "                                               \n",
    "from sklearn.linear_model import LinearRegression\n",
    "linreg=LinearRegression()\n",
    "linreg.fit(X_train,Y_train)\n",
    "Y_pred=linreg.predict(X_test)\n",
    "\n",
    "score_list.append(r2_score(Y_test,Y_pred))  \n",
    "delay_list.append(7)\n",
    "print(score_list)\n",
    "print(delay_list)"
   ]
  },
  {
   "cell_type": "markdown",
   "metadata": {},
   "source": [
    "#### Computing r2_score for delay = 8 :\n"
   ]
  },
  {
   "cell_type": "code",
   "execution_count": 18,
   "metadata": {},
   "outputs": [
    {
     "name": "stdout",
     "output_type": "stream",
     "text": [
      "<class 'pandas.core.frame.DataFrame'>\n",
      "RangeIndex: 166 entries, 0 to 165\n",
      "Data columns (total 2 columns):\n",
      "day_first     166 non-null float64\n",
      "day_fourth    166 non-null float64\n",
      "dtypes: float64(2)\n",
      "memory usage: 2.7 KB\n"
     ]
    }
   ],
   "source": [
    "from sklearn.metrics import r2_score\n",
    "\n",
    "X_train=aapl_data.loc[0:120,'Close']\n",
    "Y_train=aapl_data.loc[8:128,'Close']\n",
    "\n",
    "X_test=aapl_data.loc[129:173,'Close']\n",
    "Y_test=aapl_data.loc[137:181,'Close']\n",
    "\n",
    "training_data=pd.DataFrame()\n",
    "training_data['day_first']=X_train.tolist()\n",
    "training_data['day_fourth']=Y_train.tolist()\n",
    "\n",
    "testing_data=pd.DataFrame()\n",
    "testing_data['day_first']=X_test.tolist()\n",
    "testing_data['day_fourth']=Y_test.tolist()\n",
    "\n",
    "main_data=pd.concat([training_data,testing_data])\n",
    "main_data=main_data.reset_index(drop=True)\n",
    "\n",
    "main_data.info()"
   ]
  },
  {
   "cell_type": "code",
   "execution_count": 19,
   "metadata": {},
   "outputs": [
    {
     "name": "stdout",
     "output_type": "stream",
     "text": [
      "[0.9712132556098128, 0.9339778896425197, 0.9129136457675417, 0.8352064661707808, 0.8527442627828965, 0.8929958099362366, 0.8177824259744768, 0.8534716541608799]\n",
      "[1, 2, 3, 4, 5, 6, 7, 8]\n"
     ]
    },
    {
     "name": "stderr",
     "output_type": "stream",
     "text": [
      "C:\\User1\\lib\\site-packages\\sklearn\\model_selection\\_split.py:2026: FutureWarning: From version 0.21, test_size will always complement train_size unless both are specified.\n",
      "  FutureWarning)\n"
     ]
    }
   ],
   "source": [
    "X=main_data.loc[:,'day_first'].values.reshape(166,1)\n",
    "Y=main_data.loc[:,'day_fourth'].values.reshape(166,1)\n",
    "\n",
    "from sklearn.model_selection import train_test_split\n",
    "X_train,X_test,Y_train,Y_test=train_test_split(X,Y,train_size=120)\n",
    "                                               \n",
    "from sklearn.linear_model import LinearRegression\n",
    "linreg=LinearRegression()\n",
    "linreg.fit(X_train,Y_train)\n",
    "Y_pred=linreg.predict(X_test)\n",
    "\n",
    "score_list.append(r2_score(Y_test,Y_pred))  \n",
    "delay_list.append(8)\n",
    "print(score_list)\n",
    "print(delay_list)"
   ]
  },
  {
   "cell_type": "markdown",
   "metadata": {},
   "source": [
    "#### Computing r2_score for delay = 9 :\n"
   ]
  },
  {
   "cell_type": "code",
   "execution_count": 20,
   "metadata": {},
   "outputs": [
    {
     "name": "stdout",
     "output_type": "stream",
     "text": [
      "<class 'pandas.core.frame.DataFrame'>\n",
      "RangeIndex: 165 entries, 0 to 164\n",
      "Data columns (total 2 columns):\n",
      "day_first     165 non-null float64\n",
      "day_fourth    165 non-null float64\n",
      "dtypes: float64(2)\n",
      "memory usage: 2.7 KB\n"
     ]
    }
   ],
   "source": [
    "from sklearn.metrics import r2_score\n",
    "\n",
    "X_train=aapl_data.loc[0:120,'Close']\n",
    "Y_train=aapl_data.loc[9:129,'Close']\n",
    "\n",
    "X_test=aapl_data.loc[130:173,'Close']\n",
    "Y_test=aapl_data.loc[139:182,'Close']\n",
    "\n",
    "training_data=pd.DataFrame()\n",
    "training_data['day_first']=X_train.tolist()\n",
    "training_data['day_fourth']=Y_train.tolist()\n",
    "\n",
    "testing_data=pd.DataFrame()\n",
    "testing_data['day_first']=X_test.tolist()\n",
    "testing_data['day_fourth']=Y_test.tolist()\n",
    "\n",
    "main_data=pd.concat([training_data,testing_data])\n",
    "main_data=main_data.reset_index(drop=True)\n",
    "\n",
    "main_data.info()"
   ]
  },
  {
   "cell_type": "code",
   "execution_count": 21,
   "metadata": {},
   "outputs": [
    {
     "name": "stdout",
     "output_type": "stream",
     "text": [
      "[0.9712132556098128, 0.9339778896425197, 0.9129136457675417, 0.8352064661707808, 0.8527442627828965, 0.8929958099362366, 0.8177824259744768, 0.8534716541608799, 0.8643951378991455]\n",
      "[1, 2, 3, 4, 5, 6, 7, 8, 9]\n"
     ]
    },
    {
     "name": "stderr",
     "output_type": "stream",
     "text": [
      "C:\\User1\\lib\\site-packages\\sklearn\\model_selection\\_split.py:2026: FutureWarning: From version 0.21, test_size will always complement train_size unless both are specified.\n",
      "  FutureWarning)\n"
     ]
    }
   ],
   "source": [
    "X=main_data.loc[:,'day_first'].values.reshape(165,1)\n",
    "Y=main_data.loc[:,'day_fourth'].values.reshape(165,1)\n",
    "\n",
    "from sklearn.model_selection import train_test_split\n",
    "X_train,X_test,Y_train,Y_test=train_test_split(X,Y,train_size=120)\n",
    "                                               \n",
    "from sklearn.linear_model import LinearRegression\n",
    "linreg=LinearRegression()\n",
    "linreg.fit(X_train,Y_train)\n",
    "Y_pred=linreg.predict(X_test)\n",
    "\n",
    "score_list.append(r2_score(Y_test,Y_pred))  \n",
    "delay_list.append(9)\n",
    "print(score_list)\n",
    "print(delay_list)"
   ]
  },
  {
   "cell_type": "markdown",
   "metadata": {},
   "source": [
    "#### Computing r2_score for delay = 10 :\n"
   ]
  },
  {
   "cell_type": "code",
   "execution_count": 22,
   "metadata": {},
   "outputs": [
    {
     "name": "stdout",
     "output_type": "stream",
     "text": [
      "<class 'pandas.core.frame.DataFrame'>\n",
      "RangeIndex: 164 entries, 0 to 163\n",
      "Data columns (total 2 columns):\n",
      "day_first     164 non-null float64\n",
      "day_fourth    164 non-null float64\n",
      "dtypes: float64(2)\n",
      "memory usage: 2.6 KB\n"
     ]
    }
   ],
   "source": [
    "from sklearn.metrics import r2_score\n",
    "\n",
    "X_train=aapl_data.loc[0:120,'Close']\n",
    "Y_train=aapl_data.loc[10:130,'Close']\n",
    "\n",
    "X_test=aapl_data.loc[131:173,'Close']\n",
    "Y_test=aapl_data.loc[141:183,'Close']\n",
    "\n",
    "training_data=pd.DataFrame()\n",
    "training_data['day_first']=X_train.tolist()\n",
    "training_data['day_fourth']=Y_train.tolist()\n",
    "\n",
    "testing_data=pd.DataFrame()\n",
    "testing_data['day_first']=X_test.tolist()\n",
    "testing_data['day_fourth']=Y_test.tolist()\n",
    "\n",
    "main_data=pd.concat([training_data,testing_data])\n",
    "main_data=main_data.reset_index(drop=True)\n",
    "\n",
    "main_data.info()"
   ]
  },
  {
   "cell_type": "code",
   "execution_count": 23,
   "metadata": {},
   "outputs": [
    {
     "name": "stdout",
     "output_type": "stream",
     "text": [
      "[0.9712132556098128, 0.9339778896425197, 0.9129136457675417, 0.8352064661707808, 0.8527442627828965, 0.8929958099362366, 0.8177824259744768, 0.8534716541608799, 0.8643951378991455, 0.7758728961374332]\n",
      "[1, 2, 3, 4, 5, 6, 7, 8, 9, 10]\n"
     ]
    },
    {
     "name": "stderr",
     "output_type": "stream",
     "text": [
      "C:\\User1\\lib\\site-packages\\sklearn\\model_selection\\_split.py:2026: FutureWarning: From version 0.21, test_size will always complement train_size unless both are specified.\n",
      "  FutureWarning)\n"
     ]
    }
   ],
   "source": [
    "X=main_data.loc[:,'day_first'].values.reshape(164,1)\n",
    "Y=main_data.loc[:,'day_fourth'].values.reshape(164,1)\n",
    "\n",
    "from sklearn.model_selection import train_test_split\n",
    "X_train,X_test,Y_train,Y_test=train_test_split(X,Y,train_size=120)\n",
    "                                               \n",
    "from sklearn.linear_model import LinearRegression\n",
    "linreg=LinearRegression()\n",
    "linreg.fit(X_train,Y_train)\n",
    "Y_pred=linreg.predict(X_test)\n",
    "\n",
    "score_list.append(r2_score(Y_test,Y_pred))  \n",
    "delay_list.append(10)\n",
    "print(score_list)\n",
    "print(delay_list)"
   ]
  },
  {
   "cell_type": "code",
   "execution_count": 24,
   "metadata": {},
   "outputs": [
    {
     "data": {
      "text/plain": [
       "Text(0.5,1,'Auto-Correlation Function Plot')"
      ]
     },
     "execution_count": 24,
     "metadata": {},
     "output_type": "execute_result"
    },
    {
     "data": {
      "image/png": "[encoded data removed]",
      "text/plain": [
       "<Figure size 480x480 with 1 Axes>"
      ]
     },
     "metadata": {},
     "output_type": "display_data"
    }
   ],
   "source": [
    "fig,ax=plt.subplots(nrows=1,ncols=1,figsize=(4,4),dpi=120)\n",
    "ax.plot(delay_list,score_list,color='green')\n",
    "ax.scatter(delay_list,score_list,color='blue')\n",
    "ax.grid()\n",
    "ax.set_xlabel('delay')\n",
    "ax.set_ylabel('r-squared')\n",
    "ax.set_title('Auto-Correlation Function Plot')"
   ]
  },
  {
   "cell_type": "code",
   "execution_count": null,
   "metadata": {},
   "outputs": [],
   "source": []
  }
 ],
 "metadata": {
  "kernelspec": {
   "display_name": "Python 3",
   "language": "python",
   "name": "python3"
  },
  "language_info": {
   "codemirror_mode": {
    "name": "ipython",
    "version": 3
   },
   "file_extension": ".py",
   "mimetype": "text/x-python",
   "name": "python",
   "nbconvert_exporter": "python",
   "pygments_lexer": "ipython3",
   "version": "3.6.5"
  }
 },
 "nbformat": 4,
 "nbformat_minor": 2
}
